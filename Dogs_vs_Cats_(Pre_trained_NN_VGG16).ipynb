{
  "nbformat": 4,
  "nbformat_minor": 0,
  "metadata": {
    "colab": {
      "name": "Dogs vs. Cats (Pre-trained NN VGG16).ipynb",
      "provenance": [],
      "collapsed_sections": [
        "BUcDlZuMdJRX",
        "8xmy_SmodOoH",
        "4QRiTN0cfE-r"
      ],
      "mount_file_id": "17CWVnhSpLFgXMBOJsr4Xr-qYdB4I4DPw",
      "authorship_tag": "ABX9TyPv1FwLguxZPGOHw9tqD8Is"
    },
    "kernelspec": {
      "name": "python3",
      "display_name": "Python 3"
    },
    "language_info": {
      "name": "python"
    },
    "accelerator": "GPU"
  },
  "cells": [
    {
      "cell_type": "markdown",
      "metadata": {
        "id": "BUcDlZuMdJRX"
      },
      "source": [
        "## Convolutional Base"
      ]
    },
    {
      "cell_type": "code",
      "metadata": {
        "colab": {
          "base_uri": "https://localhost:8080/"
        },
        "id": "2pxMrR6__TSs",
        "outputId": "d4e9977b-7574-4b79-8e91-e0adee25a85d"
      },
      "source": [
        "from keras.applications.vgg16 import VGG16\n",
        "\n",
        "conv_base = VGG16(weights='imagenet', \n",
        "                  include_top=False, \n",
        "                  input_shape=(150, 150, 3))"
      ],
      "execution_count": 1,
      "outputs": [
        {
          "output_type": "stream",
          "text": [
            "Downloading data from https://storage.googleapis.com/tensorflow/keras-applications/vgg16/vgg16_weights_tf_dim_ordering_tf_kernels_notop.h5\n",
            "58892288/58889256 [==============================] - 3s 0us/step\n",
            "58900480/58889256 [==============================] - 3s 0us/step\n"
          ],
          "name": "stdout"
        }
      ]
    },
    {
      "cell_type": "code",
      "metadata": {
        "colab": {
          "base_uri": "https://localhost:8080/"
        },
        "id": "6nlLpQVCA047",
        "outputId": "08b7e236-38b4-4f22-f8ff-203c331b5adb"
      },
      "source": [
        "conv_base.summary()"
      ],
      "execution_count": 2,
      "outputs": [
        {
          "output_type": "stream",
          "text": [
            "Model: \"vgg16\"\n",
            "_________________________________________________________________\n",
            "Layer (type)                 Output Shape              Param #   \n",
            "=================================================================\n",
            "input_1 (InputLayer)         [(None, 150, 150, 3)]     0         \n",
            "_________________________________________________________________\n",
            "block1_conv1 (Conv2D)        (None, 150, 150, 64)      1792      \n",
            "_________________________________________________________________\n",
            "block1_conv2 (Conv2D)        (None, 150, 150, 64)      36928     \n",
            "_________________________________________________________________\n",
            "block1_pool (MaxPooling2D)   (None, 75, 75, 64)        0         \n",
            "_________________________________________________________________\n",
            "block2_conv1 (Conv2D)        (None, 75, 75, 128)       73856     \n",
            "_________________________________________________________________\n",
            "block2_conv2 (Conv2D)        (None, 75, 75, 128)       147584    \n",
            "_________________________________________________________________\n",
            "block2_pool (MaxPooling2D)   (None, 37, 37, 128)       0         \n",
            "_________________________________________________________________\n",
            "block3_conv1 (Conv2D)        (None, 37, 37, 256)       295168    \n",
            "_________________________________________________________________\n",
            "block3_conv2 (Conv2D)        (None, 37, 37, 256)       590080    \n",
            "_________________________________________________________________\n",
            "block3_conv3 (Conv2D)        (None, 37, 37, 256)       590080    \n",
            "_________________________________________________________________\n",
            "block3_pool (MaxPooling2D)   (None, 18, 18, 256)       0         \n",
            "_________________________________________________________________\n",
            "block4_conv1 (Conv2D)        (None, 18, 18, 512)       1180160   \n",
            "_________________________________________________________________\n",
            "block4_conv2 (Conv2D)        (None, 18, 18, 512)       2359808   \n",
            "_________________________________________________________________\n",
            "block4_conv3 (Conv2D)        (None, 18, 18, 512)       2359808   \n",
            "_________________________________________________________________\n",
            "block4_pool (MaxPooling2D)   (None, 9, 9, 512)         0         \n",
            "_________________________________________________________________\n",
            "block5_conv1 (Conv2D)        (None, 9, 9, 512)         2359808   \n",
            "_________________________________________________________________\n",
            "block5_conv2 (Conv2D)        (None, 9, 9, 512)         2359808   \n",
            "_________________________________________________________________\n",
            "block5_conv3 (Conv2D)        (None, 9, 9, 512)         2359808   \n",
            "_________________________________________________________________\n",
            "block5_pool (MaxPooling2D)   (None, 4, 4, 512)         0         \n",
            "=================================================================\n",
            "Total params: 14,714,688\n",
            "Trainable params: 14,714,688\n",
            "Non-trainable params: 0\n",
            "_________________________________________________________________\n"
          ],
          "name": "stdout"
        }
      ]
    },
    {
      "cell_type": "markdown",
      "metadata": {
        "id": "8xmy_SmodOoH"
      },
      "source": [
        "## Downloading Data"
      ]
    },
    {
      "cell_type": "code",
      "metadata": {
        "id": "UW5hWW0TA07g"
      },
      "source": [
        "! pip install -q kaggle"
      ],
      "execution_count": 3,
      "outputs": []
    },
    {
      "cell_type": "code",
      "metadata": {
        "id": "bKWpVkPMA1Ac"
      },
      "source": [
        "from google.colab import files\n",
        "files.upload()"
      ],
      "execution_count": null,
      "outputs": []
    },
    {
      "cell_type": "code",
      "metadata": {
        "id": "0tlqvRdjA1Cn",
        "colab": {
          "base_uri": "https://localhost:8080/"
        },
        "outputId": "3bd99d35-7219-4015-92fd-70812b9f9910"
      },
      "source": [
        "! mkdir ~/.kaggle\n",
        "! cp kaggle.json ~/.kaggle/\n",
        "! chmod 600 ~/.kaggle/kaggle.json\n",
        "! kaggle competitions download -c dogs-vs-cats"
      ],
      "execution_count": 5,
      "outputs": [
        {
          "output_type": "stream",
          "text": [
            "Warning: Looks like you're using an outdated API Version, please consider updating (server 1.5.12 / client 1.5.4)\n",
            "Downloading test1.zip to /content\n",
            " 96% 259M/271M [00:04<00:00, 97.5MB/s]\n",
            "100% 271M/271M [00:04<00:00, 66.0MB/s]\n",
            "Downloading sampleSubmission.csv to /content\n",
            "  0% 0.00/86.8k [00:00<?, ?B/s]\n",
            "100% 86.8k/86.8k [00:00<00:00, 83.5MB/s]\n",
            "Downloading train.zip to /content\n",
            " 97% 528M/543M [00:05<00:00, 148MB/s]\n",
            "100% 543M/543M [00:05<00:00, 102MB/s]\n"
          ],
          "name": "stdout"
        }
      ]
    },
    {
      "cell_type": "code",
      "metadata": {
        "id": "y3SeVkeXA1EU"
      },
      "source": [
        "! mkdir train\n",
        "! unzip train.zip -d train"
      ],
      "execution_count": null,
      "outputs": []
    },
    {
      "cell_type": "markdown",
      "metadata": {
        "id": "4QRiTN0cfE-r"
      },
      "source": [
        "## Making directories and moving images"
      ]
    },
    {
      "cell_type": "code",
      "metadata": {
        "id": "F239y9KMBt3S"
      },
      "source": [
        "! mkdir cats_and_dogs_small\n",
        "\n",
        "! mkdir cats_and_dogs_small/train\n",
        "! mkdir cats_and_dogs_small/validation\n",
        "! mkdir cats_and_dogs_small/test\n",
        "\n",
        "! mkdir cats_and_dogs_small/train/cats\n",
        "! mkdir cats_and_dogs_small/validation/cats\n",
        "! mkdir cats_and_dogs_small/test/cats\n",
        "\n",
        "! mkdir cats_and_dogs_small/train/dogs\n",
        "! mkdir cats_and_dogs_small/validation/dogs\n",
        "! mkdir cats_and_dogs_small/test/dogs"
      ],
      "execution_count": 19,
      "outputs": []
    },
    {
      "cell_type": "code",
      "metadata": {
        "id": "QgPGfUXVeslV"
      },
      "source": [
        "# !rm -rfv cats_and_dogs_small"
      ],
      "execution_count": null,
      "outputs": []
    },
    {
      "cell_type": "code",
      "metadata": {
        "id": "A39cby02Bt5f"
      },
      "source": [
        "import os, shutil\n",
        "\n",
        "original_dataset_dir = '/content/train/train'\n",
        "base_dir = '/content/cats_and_dogs_small'\n",
        "\n",
        "train_dir = os.path.join(base_dir, 'train')\n",
        "validation_dir = os.path.join(base_dir, 'validation')\n",
        "test_dir = os.path.join(base_dir, 'test')\n",
        "\n",
        "train_cats_dir = os.path.join(train_dir, 'cats')\n",
        "train_dogs_dir = os.path.join(train_dir, 'dogs')\n",
        "validation_cats_dir = os.path.join(validation_dir, 'cats')\n",
        "validation_dogs_dir = os.path.join(validation_dir, 'dogs')\n",
        "test_cats_dir = os.path.join(test_dir, 'cats')\n",
        "test_dogs_dir = os.path.join(test_dir, 'dogs')"
      ],
      "execution_count": 20,
      "outputs": []
    },
    {
      "cell_type": "code",
      "metadata": {
        "id": "IxgiPtl_Bt7j"
      },
      "source": [
        "fnames = ['cat.{}.jpg'.format(i) for i in range(9000)]\n",
        "for fname in fnames:\n",
        "  src = os.path.join(original_dataset_dir, fname)\n",
        "  dst = os.path.join(train_cats_dir, fname)\n",
        "  shutil.copyfile(src, dst)"
      ],
      "execution_count": 21,
      "outputs": []
    },
    {
      "cell_type": "code",
      "metadata": {
        "id": "QUKFpa-RBt9Y"
      },
      "source": [
        "fnames = ['cat.{}.jpg'.format(i) for i in range(9000, 10750)]\n",
        "for fname in fnames:\n",
        "  src = os.path.join(original_dataset_dir, fname)\n",
        "  dst = os.path.join(validation_cats_dir, fname)\n",
        "  shutil.copyfile(src, dst)"
      ],
      "execution_count": 22,
      "outputs": []
    },
    {
      "cell_type": "code",
      "metadata": {
        "id": "aoIoB93CBt_Z"
      },
      "source": [
        "fnames = ['cat.{}.jpg'.format(i) for i in range(10750, 12500)]\n",
        "for fname in fnames:\n",
        "  src = os.path.join(original_dataset_dir, fname)\n",
        "  dst = os.path.join(test_cats_dir, fname)\n",
        "  shutil.copyfile(src, dst)"
      ],
      "execution_count": 23,
      "outputs": []
    },
    {
      "cell_type": "code",
      "metadata": {
        "id": "mIdhXxjqBuBQ"
      },
      "source": [
        "fnames = ['dog.{}.jpg'.format(i) for i in range(9000)]\n",
        "for fname in fnames:\n",
        "  src = os.path.join(original_dataset_dir, fname)\n",
        "  dst = os.path.join(train_dogs_dir, fname)\n",
        "  shutil.copyfile(src, dst)"
      ],
      "execution_count": 24,
      "outputs": []
    },
    {
      "cell_type": "code",
      "metadata": {
        "id": "GtKxZx1SCEQu"
      },
      "source": [
        "fnames = ['dog.{}.jpg'.format(i) for i in range(9000, 10750)]\n",
        "\n",
        "for fname in fnames:\n",
        "  src = os.path.join(original_dataset_dir, fname)\n",
        "  dst = os.path.join(validation_dogs_dir, fname)\n",
        "  shutil.copyfile(src, dst)"
      ],
      "execution_count": 25,
      "outputs": []
    },
    {
      "cell_type": "code",
      "metadata": {
        "id": "daTdKYq3CES4"
      },
      "source": [
        "fnames = ['dog.{}.jpg'.format(i) for i in range(10750, 12500)]\n",
        "\n",
        "for fname in fnames:\n",
        "  src = os.path.join(original_dataset_dir, fname)\n",
        "  dst = os.path.join(test_dogs_dir, fname)\n",
        "  shutil.copyfile(src, dst)"
      ],
      "execution_count": 26,
      "outputs": []
    },
    {
      "cell_type": "code",
      "metadata": {
        "colab": {
          "base_uri": "https://localhost:8080/"
        },
        "id": "A3_PKA24CEVH",
        "outputId": "98e70841-46a9-4f60-a9ad-a0977b77db28"
      },
      "source": [
        "print('total training cat images:', len(os.listdir(train_cats_dir)))\n",
        "print('total training dog images:', len(os.listdir(train_dogs_dir)))\n",
        "print('total validation cat images:', len(os.listdir(validation_cats_dir)))\n",
        "print('total validation dog images:', len(os.listdir(validation_dogs_dir)))\n",
        "print('total test cat images:', len(os.listdir(test_cats_dir)))\n",
        "print('total test dog images:', len(os.listdir(test_dogs_dir)))"
      ],
      "execution_count": 27,
      "outputs": [
        {
          "output_type": "stream",
          "text": [
            "total training cat images: 9000\n",
            "total training dog images: 9000\n",
            "total validation cat images: 1750\n",
            "total validation dog images: 1750\n",
            "total test cat images: 1750\n",
            "total test dog images: 1750\n"
          ],
          "name": "stdout"
        }
      ]
    },
    {
      "cell_type": "markdown",
      "metadata": {
        "id": "NtWzNcLWfPlj"
      },
      "source": [
        "## Data Generators"
      ]
    },
    {
      "cell_type": "code",
      "metadata": {
        "colab": {
          "base_uri": "https://localhost:8080/"
        },
        "id": "TsSsdI3hCEXS",
        "outputId": "d9828b8f-759f-42c6-8466-6b0221fb99a0"
      },
      "source": [
        "import os\n",
        "import numpy as np\n",
        "from keras.preprocessing.image import ImageDataGenerator\n",
        "\n",
        "datagen = ImageDataGenerator(rescale=1./255)\n",
        "batch_size = 50\n",
        "\n",
        "def extract_features(directory, sample_count):\n",
        "    features = np.zeros(shape=(sample_count, 4, 4, 512))\n",
        "    labels = np.zeros(shape=(sample_count))\n",
        "    generator = datagen.flow_from_directory(\n",
        "        directory,\n",
        "        target_size=(150, 150),\n",
        "        batch_size=batch_size,\n",
        "        class_mode='binary')\n",
        "    i = 0\n",
        "    for inputs_batch, labels_batch in generator:\n",
        "        features_batch = conv_base.predict(inputs_batch)\n",
        "        features[i * batch_size : (i + 1) * batch_size] = features_batch\n",
        "        labels[i * batch_size : (i + 1) * batch_size] = labels_batch\n",
        "        i += 1\n",
        "        if i * batch_size >= sample_count:\n",
        "            break\n",
        "    return features, labels\n",
        "\n",
        "train_features, train_labels = extract_features(train_dir, 9000)\n",
        "validation_features, validation_labels = extract_features(validation_dir, 1750)\n",
        "test_features, test_labels = extract_features(test_dir, 1750)"
      ],
      "execution_count": 28,
      "outputs": [
        {
          "output_type": "stream",
          "text": [
            "Found 18000 images belonging to 2 classes.\n",
            "Found 3500 images belonging to 2 classes.\n",
            "Found 3500 images belonging to 2 classes.\n"
          ],
          "name": "stdout"
        }
      ]
    },
    {
      "cell_type": "code",
      "metadata": {
        "id": "zzUhwn-MCEZb"
      },
      "source": [
        "train_features = np.reshape(train_features, (9000, 4 * 4 * 512))\n",
        "validation_features = np.reshape(validation_features, (1750, 4 * 4 * 512))\n",
        "test_features = np.reshape(test_features, (1750, 4 * 4 * 512))"
      ],
      "execution_count": 29,
      "outputs": []
    },
    {
      "cell_type": "code",
      "metadata": {
        "colab": {
          "base_uri": "https://localhost:8080/"
        },
        "id": "rJEIKGDvD8v7",
        "outputId": "47ad5118-2322-484c-8e8e-f70c5a1ee4aa"
      },
      "source": [
        "# Without Data Expansion (First way)\n",
        "\n",
        "from keras.models import Sequential\n",
        "from keras.layers import Dense, Dropout\n",
        "from tensorflow.keras.optimizers import RMSprop\n",
        "\n",
        "model = Sequential()\n",
        "model.add(Dense(256, activation='relu', input_dim=(4*4*512)))\n",
        "model.add(Dropout(0.5))\n",
        "model.add(Dense(1, activation='sigmoid'))\n",
        "\n",
        "model.compile(optimizer=RMSprop(learning_rate=2e-5), \n",
        "              loss='binary_crossentropy', \n",
        "              metrics=['acc'])\n",
        "\n",
        "history = model.fit(train_features, train_labels,\n",
        "                    epochs=30,\n",
        "                    batch_size=20,\n",
        "                    validation_data=(validation_features, validation_labels))"
      ],
      "execution_count": 31,
      "outputs": [
        {
          "output_type": "stream",
          "text": [
            "Epoch 1/30\n",
            "450/450 [==============================] - 4s 6ms/step - loss: 0.4414 - acc: 0.7920 - val_loss: 0.2919 - val_acc: 0.8817\n",
            "Epoch 2/30\n",
            "450/450 [==============================] - 2s 5ms/step - loss: 0.3008 - acc: 0.8706 - val_loss: 0.2515 - val_acc: 0.8949\n",
            "Epoch 3/30\n",
            "450/450 [==============================] - 2s 5ms/step - loss: 0.2671 - acc: 0.8873 - val_loss: 0.2348 - val_acc: 0.8994\n",
            "Epoch 4/30\n",
            "450/450 [==============================] - 2s 5ms/step - loss: 0.2474 - acc: 0.8962 - val_loss: 0.2238 - val_acc: 0.9000\n",
            "Epoch 5/30\n",
            "450/450 [==============================] - 2s 5ms/step - loss: 0.2285 - acc: 0.9056 - val_loss: 0.2176 - val_acc: 0.9023\n",
            "Epoch 6/30\n",
            "450/450 [==============================] - 2s 5ms/step - loss: 0.2176 - acc: 0.9108 - val_loss: 0.2156 - val_acc: 0.9040\n",
            "Epoch 7/30\n",
            "450/450 [==============================] - 2s 5ms/step - loss: 0.2047 - acc: 0.9170 - val_loss: 0.2104 - val_acc: 0.9057\n",
            "Epoch 8/30\n",
            "450/450 [==============================] - 2s 5ms/step - loss: 0.1978 - acc: 0.9203 - val_loss: 0.2104 - val_acc: 0.9091\n",
            "Epoch 9/30\n",
            "450/450 [==============================] - 2s 5ms/step - loss: 0.1902 - acc: 0.9208 - val_loss: 0.2130 - val_acc: 0.9051\n",
            "Epoch 10/30\n",
            "450/450 [==============================] - 2s 5ms/step - loss: 0.1808 - acc: 0.9264 - val_loss: 0.2066 - val_acc: 0.9091\n",
            "Epoch 11/30\n",
            "450/450 [==============================] - 2s 5ms/step - loss: 0.1738 - acc: 0.9298 - val_loss: 0.2055 - val_acc: 0.9131\n",
            "Epoch 12/30\n",
            "450/450 [==============================] - 2s 5ms/step - loss: 0.1697 - acc: 0.9321 - val_loss: 0.2135 - val_acc: 0.9131\n",
            "Epoch 13/30\n",
            "450/450 [==============================] - 2s 5ms/step - loss: 0.1646 - acc: 0.9352 - val_loss: 0.2107 - val_acc: 0.9109\n",
            "Epoch 14/30\n",
            "450/450 [==============================] - 2s 5ms/step - loss: 0.1589 - acc: 0.9400 - val_loss: 0.2037 - val_acc: 0.9149\n",
            "Epoch 15/30\n",
            "450/450 [==============================] - 2s 5ms/step - loss: 0.1513 - acc: 0.9432 - val_loss: 0.2130 - val_acc: 0.9109\n",
            "Epoch 16/30\n",
            "450/450 [==============================] - 2s 5ms/step - loss: 0.1460 - acc: 0.9448 - val_loss: 0.2065 - val_acc: 0.9149\n",
            "Epoch 17/30\n",
            "450/450 [==============================] - 2s 5ms/step - loss: 0.1455 - acc: 0.9447 - val_loss: 0.2167 - val_acc: 0.9137\n",
            "Epoch 18/30\n",
            "450/450 [==============================] - 2s 5ms/step - loss: 0.1378 - acc: 0.9490 - val_loss: 0.2161 - val_acc: 0.9126\n",
            "Epoch 19/30\n",
            "450/450 [==============================] - 2s 5ms/step - loss: 0.1340 - acc: 0.9496 - val_loss: 0.2086 - val_acc: 0.9160\n",
            "Epoch 20/30\n",
            "450/450 [==============================] - 2s 5ms/step - loss: 0.1295 - acc: 0.9541 - val_loss: 0.2110 - val_acc: 0.9166\n",
            "Epoch 21/30\n",
            "450/450 [==============================] - 2s 5ms/step - loss: 0.1276 - acc: 0.9544 - val_loss: 0.2118 - val_acc: 0.9183\n",
            "Epoch 22/30\n",
            "450/450 [==============================] - 2s 5ms/step - loss: 0.1250 - acc: 0.9544 - val_loss: 0.2141 - val_acc: 0.9160\n",
            "Epoch 23/30\n",
            "450/450 [==============================] - 2s 5ms/step - loss: 0.1197 - acc: 0.9548 - val_loss: 0.2168 - val_acc: 0.9160\n",
            "Epoch 24/30\n",
            "450/450 [==============================] - 2s 5ms/step - loss: 0.1146 - acc: 0.9601 - val_loss: 0.2174 - val_acc: 0.9160\n",
            "Epoch 25/30\n",
            "450/450 [==============================] - 2s 5ms/step - loss: 0.1127 - acc: 0.9602 - val_loss: 0.2276 - val_acc: 0.9051\n",
            "Epoch 26/30\n",
            "450/450 [==============================] - 2s 5ms/step - loss: 0.1112 - acc: 0.9608 - val_loss: 0.2203 - val_acc: 0.9160\n",
            "Epoch 27/30\n",
            "450/450 [==============================] - 2s 5ms/step - loss: 0.1093 - acc: 0.9621 - val_loss: 0.2238 - val_acc: 0.9149\n",
            "Epoch 28/30\n",
            "450/450 [==============================] - 2s 5ms/step - loss: 0.1039 - acc: 0.9653 - val_loss: 0.2226 - val_acc: 0.9160\n",
            "Epoch 29/30\n",
            "450/450 [==============================] - 2s 5ms/step - loss: 0.1022 - acc: 0.9652 - val_loss: 0.2260 - val_acc: 0.9171\n",
            "Epoch 30/30\n",
            "450/450 [==============================] - 2s 5ms/step - loss: 0.0984 - acc: 0.9672 - val_loss: 0.2286 - val_acc: 0.9149\n"
          ],
          "name": "stdout"
        }
      ]
    },
    {
      "cell_type": "code",
      "metadata": {
        "colab": {
          "base_uri": "https://localhost:8080/",
          "height": 545
        },
        "id": "l3mM7HA1D8x3",
        "outputId": "42b16e88-d5a2-456d-cd8d-a17b7e478d94"
      },
      "source": [
        "import matplotlib.pyplot as plt\n",
        "\n",
        "acc = history.history['acc']\n",
        "val_acc = history.history['val_acc']\n",
        "loss = history.history['loss']\n",
        "val_loss = history.history['val_loss']\n",
        "\n",
        "epochs = range(1, len(acc) + 1)\n",
        "plt.plot(epochs, acc, 'bo', label='Training accuracy')\n",
        "plt.plot(epochs, val_acc, 'b', label='Validation accuracy')\n",
        "plt.title('Training and Validation accuracy')\n",
        "plt.legend()\n",
        "\n",
        "plt.figure()\n",
        "\n",
        "plt.plot(epochs, loss, 'bo', label='Training loss')\n",
        "plt.plot(epochs, val_loss, 'b', label='Validation loss')\n",
        "plt.title('Training and Validation loss')\n",
        "plt.legend()\n",
        "\n",
        "plt.show()"
      ],
      "execution_count": 32,
      "outputs": [
        {
          "output_type": "display_data",
          "data": {
            "image/png": "[encoded data removed]",
            "text/plain": [
              "<Figure size 432x288 with 1 Axes>"
            ]
          },
          "metadata": {
            "needs_background": "light"
          }
        },
        {
          "output_type": "display_data",
          "data": {
            "image/png": "[encoded data removed]",
            "text/plain": [
              "<Figure size 432x288 with 1 Axes>"
            ]
          },
          "metadata": {
            "needs_background": "light"
          }
        }
      ]
    },
    {
      "cell_type": "code",
      "metadata": {
        "colab": {
          "base_uri": "https://localhost:8080/"
        },
        "id": "cb3Gu3-3D8z_",
        "outputId": "6bdfab9c-b346-4706-c625-528502d1af8a"
      },
      "source": [
        "# With Data Expansion (Second way)\n",
        "\n",
        "from keras.layers import Flatten\n",
        "\n",
        "model = Sequential()\n",
        "model.add(conv_base)\n",
        "model.add(Flatten())\n",
        "model.add(Dense(256, activation='relu'))\n",
        "model.add(Dense(1, activation='sigmoid'))\n",
        "\n",
        "model.summary()"
      ],
      "execution_count": 33,
      "outputs": [
        {
          "output_type": "stream",
          "text": [
            "Model: \"sequential_1\"\n",
            "_________________________________________________________________\n",
            "Layer (type)                 Output Shape              Param #   \n",
            "=================================================================\n",
            "vgg16 (Functional)           (None, 4, 4, 512)         14714688  \n",
            "_________________________________________________________________\n",
            "flatten (Flatten)            (None, 8192)              0         \n",
            "_________________________________________________________________\n",
            "dense_2 (Dense)              (None, 256)               2097408   \n",
            "_________________________________________________________________\n",
            "dense_3 (Dense)              (None, 1)                 257       \n",
            "=================================================================\n",
            "Total params: 16,812,353\n",
            "Trainable params: 16,812,353\n",
            "Non-trainable params: 0\n",
            "_________________________________________________________________\n"
          ],
          "name": "stdout"
        }
      ]
    },
    {
      "cell_type": "code",
      "metadata": {
        "colab": {
          "base_uri": "https://localhost:8080/"
        },
        "id": "Z1nWWwWsD815",
        "outputId": "02c5dc0f-601a-40e7-dab3-0f2ca76b7d0a"
      },
      "source": [
        "print('This is the number of trainable weights', \n",
        "      'before freezing the conv base',\n",
        "      len(model.trainable_weights))\n",
        "\n",
        "conv_base.trainable = False\n",
        "\n",
        "print('This is the number of trainable weights', \n",
        "      'after freezing the conv base',\n",
        "      len(model.trainable_weights))"
      ],
      "execution_count": 34,
      "outputs": [
        {
          "output_type": "stream",
          "text": [
            "This is the number of trainable weights before freezing the conv base 30\n",
            "This is the number of trainable weights after freezing the conv base 4\n"
          ],
          "name": "stdout"
        }
      ]
    },
    {
      "cell_type": "code",
      "metadata": {
        "colab": {
          "base_uri": "https://localhost:8080/"
        },
        "id": "upHlur78IUHd",
        "outputId": "46cfc096-07f5-4f13-cb03-f49f1d067dad"
      },
      "source": [
        "from keras.preprocessing.image import ImageDataGenerator\n",
        "\n",
        "train_datagen = ImageDataGenerator(\n",
        "    rescale=1./255,\n",
        "    rotation_range=40,\n",
        "    width_shift_range=0.2,\n",
        "    height_shift_range=0.2,\n",
        "    shear_range=0.2,\n",
        "    zoom_range=0.2,\n",
        "    horizontal_flip=True,\n",
        "    fill_mode='nearest')\n",
        "\n",
        "test_datagen = ImageDataGenerator(rescale=1./255)\n",
        "\n",
        "train_generator = train_datagen.flow_from_directory(\n",
        "    train_dir, \n",
        "    target_size=(150, 150), \n",
        "    batch_size=20, \n",
        "    class_mode='binary')\n",
        "\n",
        "validation_generator = test_datagen.flow_from_directory(\n",
        "    validation_dir,\n",
        "    target_size=(150, 150),\n",
        "    batch_size=20,\n",
        "    class_mode='binary')"
      ],
      "execution_count": 35,
      "outputs": [
        {
          "output_type": "stream",
          "text": [
            "Found 18000 images belonging to 2 classes.\n",
            "Found 3500 images belonging to 2 classes.\n"
          ],
          "name": "stdout"
        }
      ]
    },
    {
      "cell_type": "code",
      "metadata": {
        "colab": {
          "base_uri": "https://localhost:8080/"
        },
        "id": "6F0RXf7wD833",
        "outputId": "e52b9249-7111-4044-c560-4960990b1811"
      },
      "source": [
        "model.compile(optimizer=RMSprop(learning_rate=2e-5), \n",
        "              loss='binary_crossentropy', \n",
        "              metrics=['acc'])\n",
        "\n",
        "history = model.fit(train_generator,\n",
        "                    steps_per_epoch=100,\n",
        "                    epochs=30,\n",
        "                    validation_data=validation_generator,\n",
        "                    validation_steps=50)"
      ],
      "execution_count": 36,
      "outputs": [
        {
          "output_type": "stream",
          "text": [
            "Epoch 1/30\n",
            "100/100 [==============================] - 32s 272ms/step - loss: 0.6002 - acc: 0.6920 - val_loss: 0.4533 - val_acc: 0.8150\n",
            "Epoch 2/30\n",
            "100/100 [==============================] - 27s 269ms/step - loss: 0.4825 - acc: 0.7795 - val_loss: 0.3881 - val_acc: 0.8390\n",
            "Epoch 3/30\n",
            "100/100 [==============================] - 27s 267ms/step - loss: 0.4304 - acc: 0.8090 - val_loss: 0.3457 - val_acc: 0.8500\n",
            "Epoch 4/30\n",
            "100/100 [==============================] - 27s 268ms/step - loss: 0.4073 - acc: 0.8335 - val_loss: 0.3249 - val_acc: 0.8480\n",
            "Epoch 5/30\n",
            "100/100 [==============================] - 27s 269ms/step - loss: 0.3974 - acc: 0.8215 - val_loss: 0.3414 - val_acc: 0.8500\n",
            "Epoch 6/30\n",
            "100/100 [==============================] - 27s 273ms/step - loss: 0.3829 - acc: 0.8195 - val_loss: 0.2886 - val_acc: 0.8880\n",
            "Epoch 7/30\n",
            "100/100 [==============================] - 27s 272ms/step - loss: 0.3820 - acc: 0.8320 - val_loss: 0.2784 - val_acc: 0.8850\n",
            "Epoch 8/30\n",
            "100/100 [==============================] - 27s 272ms/step - loss: 0.3583 - acc: 0.8460 - val_loss: 0.3000 - val_acc: 0.8720\n",
            "Epoch 9/30\n",
            "100/100 [==============================] - 27s 271ms/step - loss: 0.3524 - acc: 0.8350 - val_loss: 0.3058 - val_acc: 0.8730\n",
            "Epoch 10/30\n",
            "100/100 [==============================] - 27s 270ms/step - loss: 0.3561 - acc: 0.8380 - val_loss: 0.2567 - val_acc: 0.8930\n",
            "Epoch 11/30\n",
            "100/100 [==============================] - 27s 268ms/step - loss: 0.3324 - acc: 0.8510 - val_loss: 0.2832 - val_acc: 0.8800\n",
            "Epoch 12/30\n",
            "100/100 [==============================] - 27s 267ms/step - loss: 0.3395 - acc: 0.8535 - val_loss: 0.2742 - val_acc: 0.8720\n",
            "Epoch 13/30\n",
            "100/100 [==============================] - 27s 268ms/step - loss: 0.3643 - acc: 0.8410 - val_loss: 0.2416 - val_acc: 0.8990\n",
            "Epoch 14/30\n",
            "100/100 [==============================] - 27s 271ms/step - loss: 0.3621 - acc: 0.8410 - val_loss: 0.2664 - val_acc: 0.8810\n",
            "Epoch 15/30\n",
            "100/100 [==============================] - 27s 271ms/step - loss: 0.3353 - acc: 0.8505 - val_loss: 0.2429 - val_acc: 0.8920\n",
            "Epoch 16/30\n",
            "100/100 [==============================] - 27s 266ms/step - loss: 0.3458 - acc: 0.8450 - val_loss: 0.2509 - val_acc: 0.8920\n",
            "Epoch 17/30\n",
            "100/100 [==============================] - 27s 265ms/step - loss: 0.3336 - acc: 0.8460 - val_loss: 0.2407 - val_acc: 0.8960\n",
            "Epoch 18/30\n",
            "100/100 [==============================] - 27s 265ms/step - loss: 0.3397 - acc: 0.8520 - val_loss: 0.2542 - val_acc: 0.9040\n",
            "Epoch 19/30\n",
            "100/100 [==============================] - 27s 266ms/step - loss: 0.3254 - acc: 0.8580 - val_loss: 0.2540 - val_acc: 0.9000\n",
            "Epoch 20/30\n",
            "100/100 [==============================] - 27s 273ms/step - loss: 0.3270 - acc: 0.8575 - val_loss: 0.2432 - val_acc: 0.8930\n",
            "Epoch 21/30\n",
            "100/100 [==============================] - 27s 271ms/step - loss: 0.3401 - acc: 0.8455 - val_loss: 0.2741 - val_acc: 0.8800\n",
            "Epoch 22/30\n",
            "100/100 [==============================] - 27s 266ms/step - loss: 0.3374 - acc: 0.8510 - val_loss: 0.2243 - val_acc: 0.8960\n",
            "Epoch 23/30\n",
            "100/100 [==============================] - 27s 268ms/step - loss: 0.3276 - acc: 0.8465 - val_loss: 0.2491 - val_acc: 0.8990\n",
            "Epoch 24/30\n",
            "100/100 [==============================] - 27s 266ms/step - loss: 0.3153 - acc: 0.8575 - val_loss: 0.2192 - val_acc: 0.9070\n",
            "Epoch 25/30\n",
            "100/100 [==============================] - 27s 266ms/step - loss: 0.3234 - acc: 0.8550 - val_loss: 0.2417 - val_acc: 0.9030\n",
            "Epoch 26/30\n",
            "100/100 [==============================] - 27s 267ms/step - loss: 0.3307 - acc: 0.8505 - val_loss: 0.2447 - val_acc: 0.9000\n",
            "Epoch 27/30\n",
            "100/100 [==============================] - 27s 265ms/step - loss: 0.3004 - acc: 0.8665 - val_loss: 0.2526 - val_acc: 0.9000\n",
            "Epoch 28/30\n",
            "100/100 [==============================] - 27s 265ms/step - loss: 0.3173 - acc: 0.8595 - val_loss: 0.2421 - val_acc: 0.9090\n",
            "Epoch 29/30\n",
            "100/100 [==============================] - 27s 267ms/step - loss: 0.3020 - acc: 0.8770 - val_loss: 0.2631 - val_acc: 0.8970\n",
            "Epoch 30/30\n",
            "100/100 [==============================] - 27s 266ms/step - loss: 0.3053 - acc: 0.8705 - val_loss: 0.2261 - val_acc: 0.9080\n"
          ],
          "name": "stdout"
        }
      ]
    },
    {
      "cell_type": "code",
      "metadata": {
        "colab": {
          "base_uri": "https://localhost:8080/",
          "height": 545
        },
        "id": "G7Z3WH2XCEbb",
        "outputId": "606777f8-c3e8-4bb0-94b5-858c5f2fe538"
      },
      "source": [
        "import matplotlib.pyplot as plt\n",
        "\n",
        "acc = history.history['acc']\n",
        "val_acc = history.history['val_acc']\n",
        "loss = history.history['loss']\n",
        "val_loss = history.history['val_loss']\n",
        "\n",
        "epochs = range(1, len(acc) + 1)\n",
        "plt.plot(epochs, acc, 'bo', label='Training accuracy')\n",
        "plt.plot(epochs, val_acc, 'b', label='Validation accuracy')\n",
        "plt.title('Training and Validation accuracy')\n",
        "plt.legend()\n",
        "\n",
        "plt.figure()\n",
        "\n",
        "plt.plot(epochs, loss, 'bo', label='Training loss')\n",
        "plt.plot(epochs, val_loss, 'b', label='Validation loss')\n",
        "plt.title('Training and Validation loss')\n",
        "plt.legend()\n",
        "\n",
        "plt.show()"
      ],
      "execution_count": 37,
      "outputs": [
        {
          "output_type": "display_data",
          "data": {
            "image/png": "[encoded data removed]",
            "text/plain": [
              "<Figure size 432x288 with 1 Axes>"
            ]
          },
          "metadata": {
            "needs_background": "light"
          }
        },
        {
          "output_type": "display_data",
          "data": {
            "image/png": "[encoded data removed]",
            "text/plain": [
              "<Figure size 432x288 with 1 Axes>"
            ]
          },
          "metadata": {
            "needs_background": "light"
          }
        }
      ]
    },
    {
      "cell_type": "code",
      "metadata": {
        "colab": {
          "base_uri": "https://localhost:8080/"
        },
        "id": "6tDrjIF8CEiQ",
        "outputId": "a652060f-ef27-45ff-c959-8225696fd3fa"
      },
      "source": [
        "conv_base.summary()"
      ],
      "execution_count": 38,
      "outputs": [
        {
          "output_type": "stream",
          "text": [
            "Model: \"vgg16\"\n",
            "_________________________________________________________________\n",
            "Layer (type)                 Output Shape              Param #   \n",
            "=================================================================\n",
            "input_1 (InputLayer)         [(None, 150, 150, 3)]     0         \n",
            "_________________________________________________________________\n",
            "block1_conv1 (Conv2D)        (None, 150, 150, 64)      1792      \n",
            "_________________________________________________________________\n",
            "block1_conv2 (Conv2D)        (None, 150, 150, 64)      36928     \n",
            "_________________________________________________________________\n",
            "block1_pool (MaxPooling2D)   (None, 75, 75, 64)        0         \n",
            "_________________________________________________________________\n",
            "block2_conv1 (Conv2D)        (None, 75, 75, 128)       73856     \n",
            "_________________________________________________________________\n",
            "block2_conv2 (Conv2D)        (None, 75, 75, 128)       147584    \n",
            "_________________________________________________________________\n",
            "block2_pool (MaxPooling2D)   (None, 37, 37, 128)       0         \n",
            "_________________________________________________________________\n",
            "block3_conv1 (Conv2D)        (None, 37, 37, 256)       295168    \n",
            "_________________________________________________________________\n",
            "block3_conv2 (Conv2D)        (None, 37, 37, 256)       590080    \n",
            "_________________________________________________________________\n",
            "block3_conv3 (Conv2D)        (None, 37, 37, 256)       590080    \n",
            "_________________________________________________________________\n",
            "block3_pool (MaxPooling2D)   (None, 18, 18, 256)       0         \n",
            "_________________________________________________________________\n",
            "block4_conv1 (Conv2D)        (None, 18, 18, 512)       1180160   \n",
            "_________________________________________________________________\n",
            "block4_conv2 (Conv2D)        (None, 18, 18, 512)       2359808   \n",
            "_________________________________________________________________\n",
            "block4_conv3 (Conv2D)        (None, 18, 18, 512)       2359808   \n",
            "_________________________________________________________________\n",
            "block4_pool (MaxPooling2D)   (None, 9, 9, 512)         0         \n",
            "_________________________________________________________________\n",
            "block5_conv1 (Conv2D)        (None, 9, 9, 512)         2359808   \n",
            "_________________________________________________________________\n",
            "block5_conv2 (Conv2D)        (None, 9, 9, 512)         2359808   \n",
            "_________________________________________________________________\n",
            "block5_conv3 (Conv2D)        (None, 9, 9, 512)         2359808   \n",
            "_________________________________________________________________\n",
            "block5_pool (MaxPooling2D)   (None, 4, 4, 512)         0         \n",
            "=================================================================\n",
            "Total params: 14,714,688\n",
            "Trainable params: 0\n",
            "Non-trainable params: 14,714,688\n",
            "_________________________________________________________________\n"
          ],
          "name": "stdout"
        }
      ]
    },
    {
      "cell_type": "code",
      "metadata": {
        "id": "2JD2Ru1BIogB"
      },
      "source": [
        "conv_base.trainable = True\n",
        "\n",
        "set_trainable = False\n",
        "for layer in conv_base.layers:\n",
        "    if layer.name == 'block5_conv1':\n",
        "        set_trainable = True\n",
        "    if set_trainable:\n",
        "        layer.trainable = True\n",
        "    else:\n",
        "        layer.trainable = False"
      ],
      "execution_count": 39,
      "outputs": []
    },
    {
      "cell_type": "code",
      "metadata": {
        "colab": {
          "base_uri": "https://localhost:8080/"
        },
        "id": "RwxJ74EdIoiJ",
        "outputId": "559460fb-d538-4f74-8967-99a95dcff9c8"
      },
      "source": [
        "model.compile(loss='binary_crossentropy', \n",
        "              optimizer=RMSprop(learning_rate=1e-5), \n",
        "              metrics=['acc'])\n",
        "\n",
        "history = model.fit(train_generator,\n",
        "                    steps_per_epoch=100,\n",
        "                    epochs=100,\n",
        "                    validation_data=validation_generator,\n",
        "                    validation_steps=50)"
      ],
      "execution_count": 40,
      "outputs": [
        {
          "output_type": "stream",
          "text": [
            "Epoch 1/100\n",
            "100/100 [==============================] - 30s 279ms/step - loss: 0.3134 - acc: 0.8655 - val_loss: 0.2217 - val_acc: 0.9180\n",
            "Epoch 2/100\n",
            "100/100 [==============================] - 28s 275ms/step - loss: 0.2996 - acc: 0.8740 - val_loss: 0.2340 - val_acc: 0.9080\n",
            "Epoch 3/100\n",
            "100/100 [==============================] - 28s 274ms/step - loss: 0.3057 - acc: 0.8675 - val_loss: 0.1924 - val_acc: 0.9150\n",
            "Epoch 4/100\n",
            "100/100 [==============================] - 28s 276ms/step - loss: 0.2782 - acc: 0.8760 - val_loss: 0.1610 - val_acc: 0.9330\n",
            "Epoch 5/100\n",
            "100/100 [==============================] - 27s 274ms/step - loss: 0.2578 - acc: 0.8925 - val_loss: 0.3215 - val_acc: 0.8840\n",
            "Epoch 6/100\n",
            "100/100 [==============================] - 27s 274ms/step - loss: 0.2507 - acc: 0.8925 - val_loss: 0.1984 - val_acc: 0.9170\n",
            "Epoch 7/100\n",
            "100/100 [==============================] - 27s 274ms/step - loss: 0.2386 - acc: 0.9000 - val_loss: 0.2114 - val_acc: 0.9150\n",
            "Epoch 8/100\n",
            "100/100 [==============================] - 27s 274ms/step - loss: 0.2420 - acc: 0.9005 - val_loss: 0.1778 - val_acc: 0.9350\n",
            "Epoch 9/100\n",
            "100/100 [==============================] - 27s 274ms/step - loss: 0.2484 - acc: 0.8955 - val_loss: 0.2152 - val_acc: 0.9300\n",
            "Epoch 10/100\n",
            "100/100 [==============================] - 28s 275ms/step - loss: 0.2256 - acc: 0.9125 - val_loss: 0.1897 - val_acc: 0.9270\n",
            "Epoch 11/100\n",
            "100/100 [==============================] - 28s 280ms/step - loss: 0.2286 - acc: 0.9030 - val_loss: 0.2474 - val_acc: 0.9100\n",
            "Epoch 12/100\n",
            "100/100 [==============================] - 28s 284ms/step - loss: 0.2044 - acc: 0.9105 - val_loss: 0.1692 - val_acc: 0.9390\n",
            "Epoch 13/100\n",
            "100/100 [==============================] - 28s 277ms/step - loss: 0.2269 - acc: 0.9040 - val_loss: 0.1772 - val_acc: 0.9270\n",
            "Epoch 14/100\n",
            "100/100 [==============================] - 28s 275ms/step - loss: 0.2044 - acc: 0.9125 - val_loss: 0.1918 - val_acc: 0.9230\n",
            "Epoch 15/100\n",
            "100/100 [==============================] - 28s 276ms/step - loss: 0.2186 - acc: 0.9095 - val_loss: 0.1895 - val_acc: 0.9320\n",
            "Epoch 16/100\n",
            "100/100 [==============================] - 28s 278ms/step - loss: 0.2189 - acc: 0.9050 - val_loss: 0.1611 - val_acc: 0.9360\n",
            "Epoch 17/100\n",
            "100/100 [==============================] - 28s 275ms/step - loss: 0.2257 - acc: 0.9045 - val_loss: 0.1611 - val_acc: 0.9350\n",
            "Epoch 18/100\n",
            "100/100 [==============================] - 28s 276ms/step - loss: 0.1892 - acc: 0.9170 - val_loss: 0.1348 - val_acc: 0.9520\n",
            "Epoch 19/100\n",
            "100/100 [==============================] - 27s 275ms/step - loss: 0.1789 - acc: 0.9240 - val_loss: 0.1722 - val_acc: 0.9380\n",
            "Epoch 20/100\n",
            "100/100 [==============================] - 28s 275ms/step - loss: 0.1935 - acc: 0.9255 - val_loss: 0.1697 - val_acc: 0.9410\n",
            "Epoch 21/100\n",
            "100/100 [==============================] - 28s 281ms/step - loss: 0.1956 - acc: 0.9230 - val_loss: 0.1423 - val_acc: 0.9550\n",
            "Epoch 22/100\n",
            "100/100 [==============================] - 28s 279ms/step - loss: 0.1891 - acc: 0.9225 - val_loss: 0.1736 - val_acc: 0.9360\n",
            "Epoch 23/100\n",
            "100/100 [==============================] - 28s 276ms/step - loss: 0.1788 - acc: 0.9270 - val_loss: 0.1713 - val_acc: 0.9350\n",
            "Epoch 24/100\n",
            "100/100 [==============================] - 28s 278ms/step - loss: 0.2024 - acc: 0.9145 - val_loss: 0.1557 - val_acc: 0.9450\n",
            "Epoch 25/100\n",
            "100/100 [==============================] - 28s 284ms/step - loss: 0.1644 - acc: 0.9335 - val_loss: 0.1423 - val_acc: 0.9460\n",
            "Epoch 26/100\n",
            "100/100 [==============================] - 28s 281ms/step - loss: 0.1737 - acc: 0.9315 - val_loss: 0.1772 - val_acc: 0.9400\n",
            "Epoch 27/100\n",
            "100/100 [==============================] - 28s 277ms/step - loss: 0.1881 - acc: 0.9235 - val_loss: 0.2010 - val_acc: 0.9320\n",
            "Epoch 28/100\n",
            "100/100 [==============================] - 28s 278ms/step - loss: 0.1882 - acc: 0.9250 - val_loss: 0.1654 - val_acc: 0.9350\n",
            "Epoch 29/100\n",
            "100/100 [==============================] - 28s 276ms/step - loss: 0.1832 - acc: 0.9180 - val_loss: 0.1544 - val_acc: 0.9380\n",
            "Epoch 30/100\n",
            "100/100 [==============================] - 28s 275ms/step - loss: 0.2040 - acc: 0.9130 - val_loss: 0.1494 - val_acc: 0.9460\n",
            "Epoch 31/100\n",
            "100/100 [==============================] - 27s 274ms/step - loss: 0.1920 - acc: 0.9275 - val_loss: 0.1374 - val_acc: 0.9470\n",
            "Epoch 32/100\n",
            "100/100 [==============================] - 28s 274ms/step - loss: 0.1842 - acc: 0.9315 - val_loss: 0.1469 - val_acc: 0.9500\n",
            "Epoch 33/100\n",
            "100/100 [==============================] - 28s 275ms/step - loss: 0.1667 - acc: 0.9280 - val_loss: 0.1448 - val_acc: 0.9500\n",
            "Epoch 34/100\n",
            "100/100 [==============================] - 28s 276ms/step - loss: 0.1759 - acc: 0.9250 - val_loss: 0.1621 - val_acc: 0.9410\n",
            "Epoch 35/100\n",
            "100/100 [==============================] - 28s 277ms/step - loss: 0.1737 - acc: 0.9260 - val_loss: 0.1652 - val_acc: 0.9390\n",
            "Epoch 36/100\n",
            "100/100 [==============================] - 28s 277ms/step - loss: 0.1821 - acc: 0.9255 - val_loss: 0.1752 - val_acc: 0.9330\n",
            "Epoch 37/100\n",
            "100/100 [==============================] - 28s 275ms/step - loss: 0.1659 - acc: 0.9280 - val_loss: 0.1761 - val_acc: 0.9350\n",
            "Epoch 38/100\n",
            "100/100 [==============================] - 28s 276ms/step - loss: 0.1624 - acc: 0.9370 - val_loss: 0.1592 - val_acc: 0.9370\n",
            "Epoch 39/100\n",
            "100/100 [==============================] - 28s 275ms/step - loss: 0.1859 - acc: 0.9275 - val_loss: 0.1862 - val_acc: 0.9340\n",
            "Epoch 40/100\n",
            "100/100 [==============================] - 28s 276ms/step - loss: 0.1592 - acc: 0.9410 - val_loss: 0.1609 - val_acc: 0.9430\n",
            "Epoch 41/100\n",
            "100/100 [==============================] - 28s 276ms/step - loss: 0.1893 - acc: 0.9230 - val_loss: 0.1313 - val_acc: 0.9460\n",
            "Epoch 42/100\n",
            "100/100 [==============================] - 28s 277ms/step - loss: 0.1620 - acc: 0.9305 - val_loss: 0.1415 - val_acc: 0.9560\n",
            "Epoch 43/100\n",
            "100/100 [==============================] - 28s 280ms/step - loss: 0.1539 - acc: 0.9340 - val_loss: 0.1470 - val_acc: 0.9460\n",
            "Epoch 44/100\n",
            "100/100 [==============================] - 28s 283ms/step - loss: 0.1567 - acc: 0.9355 - val_loss: 0.1891 - val_acc: 0.9370\n",
            "Epoch 45/100\n",
            "100/100 [==============================] - 28s 279ms/step - loss: 0.1542 - acc: 0.9340 - val_loss: 0.1506 - val_acc: 0.9540\n",
            "Epoch 46/100\n",
            "100/100 [==============================] - 28s 277ms/step - loss: 0.1497 - acc: 0.9465 - val_loss: 0.1394 - val_acc: 0.9500\n",
            "Epoch 47/100\n",
            "100/100 [==============================] - 27s 274ms/step - loss: 0.1593 - acc: 0.9330 - val_loss: 0.1599 - val_acc: 0.9480\n",
            "Epoch 48/100\n",
            "100/100 [==============================] - 28s 276ms/step - loss: 0.1291 - acc: 0.9455 - val_loss: 0.1614 - val_acc: 0.9440\n",
            "Epoch 49/100\n",
            "100/100 [==============================] - 28s 276ms/step - loss: 0.1436 - acc: 0.9400 - val_loss: 0.1865 - val_acc: 0.9410\n",
            "Epoch 50/100\n",
            "100/100 [==============================] - 28s 279ms/step - loss: 0.1459 - acc: 0.9425 - val_loss: 0.1286 - val_acc: 0.9440\n",
            "Epoch 51/100\n",
            "100/100 [==============================] - 28s 277ms/step - loss: 0.1587 - acc: 0.9340 - val_loss: 0.1434 - val_acc: 0.9430\n",
            "Epoch 52/100\n",
            "100/100 [==============================] - 28s 279ms/step - loss: 0.1498 - acc: 0.9395 - val_loss: 0.1303 - val_acc: 0.9550\n",
            "Epoch 53/100\n",
            "100/100 [==============================] - 28s 282ms/step - loss: 0.1392 - acc: 0.9380 - val_loss: 0.2447 - val_acc: 0.9210\n",
            "Epoch 54/100\n",
            "100/100 [==============================] - 28s 280ms/step - loss: 0.1523 - acc: 0.9375 - val_loss: 0.1632 - val_acc: 0.9460\n",
            "Epoch 55/100\n",
            "100/100 [==============================] - 28s 277ms/step - loss: 0.1326 - acc: 0.9455 - val_loss: 0.1365 - val_acc: 0.9520\n",
            "Epoch 56/100\n",
            "100/100 [==============================] - 28s 277ms/step - loss: 0.1357 - acc: 0.9460 - val_loss: 0.2114 - val_acc: 0.9270\n",
            "Epoch 57/100\n",
            "100/100 [==============================] - 28s 282ms/step - loss: 0.1361 - acc: 0.9445 - val_loss: 0.1799 - val_acc: 0.9430\n",
            "Epoch 58/100\n",
            "100/100 [==============================] - 28s 282ms/step - loss: 0.1390 - acc: 0.9430 - val_loss: 0.1911 - val_acc: 0.9360\n",
            "Epoch 59/100\n",
            "100/100 [==============================] - 28s 280ms/step - loss: 0.1417 - acc: 0.9465 - val_loss: 0.2089 - val_acc: 0.9330\n",
            "Epoch 60/100\n",
            "100/100 [==============================] - 28s 281ms/step - loss: 0.1477 - acc: 0.9425 - val_loss: 0.1466 - val_acc: 0.9400\n",
            "Epoch 61/100\n",
            "100/100 [==============================] - 28s 279ms/step - loss: 0.1538 - acc: 0.9440 - val_loss: 0.1549 - val_acc: 0.9400\n",
            "Epoch 62/100\n",
            "100/100 [==============================] - 28s 280ms/step - loss: 0.1576 - acc: 0.9415 - val_loss: 0.1275 - val_acc: 0.9530\n",
            "Epoch 63/100\n",
            "100/100 [==============================] - 28s 278ms/step - loss: 0.1572 - acc: 0.9365 - val_loss: 0.1803 - val_acc: 0.9430\n",
            "Epoch 64/100\n",
            "100/100 [==============================] - 28s 276ms/step - loss: 0.1208 - acc: 0.9505 - val_loss: 0.1760 - val_acc: 0.9400\n",
            "Epoch 65/100\n",
            "100/100 [==============================] - 28s 277ms/step - loss: 0.1274 - acc: 0.9490 - val_loss: 0.1838 - val_acc: 0.9480\n",
            "Epoch 66/100\n",
            "100/100 [==============================] - 28s 277ms/step - loss: 0.1288 - acc: 0.9470 - val_loss: 0.1801 - val_acc: 0.9440\n",
            "Epoch 67/100\n",
            "100/100 [==============================] - 28s 277ms/step - loss: 0.1155 - acc: 0.9520 - val_loss: 0.1399 - val_acc: 0.9520\n",
            "Epoch 68/100\n",
            "100/100 [==============================] - 28s 276ms/step - loss: 0.1281 - acc: 0.9495 - val_loss: 0.1418 - val_acc: 0.9560\n",
            "Epoch 69/100\n",
            "100/100 [==============================] - 27s 274ms/step - loss: 0.1466 - acc: 0.9420 - val_loss: 0.1633 - val_acc: 0.9480\n",
            "Epoch 70/100\n",
            "100/100 [==============================] - 28s 274ms/step - loss: 0.1185 - acc: 0.9525 - val_loss: 0.1405 - val_acc: 0.9490\n",
            "Epoch 71/100\n",
            "100/100 [==============================] - 27s 275ms/step - loss: 0.1262 - acc: 0.9545 - val_loss: 0.1723 - val_acc: 0.9480\n",
            "Epoch 72/100\n",
            "100/100 [==============================] - 28s 276ms/step - loss: 0.1323 - acc: 0.9445 - val_loss: 0.1833 - val_acc: 0.9370\n",
            "Epoch 73/100\n",
            "100/100 [==============================] - 28s 275ms/step - loss: 0.1257 - acc: 0.9470 - val_loss: 0.2589 - val_acc: 0.9200\n",
            "Epoch 74/100\n",
            "100/100 [==============================] - 28s 275ms/step - loss: 0.1421 - acc: 0.9415 - val_loss: 0.1908 - val_acc: 0.9320\n",
            "Epoch 75/100\n",
            "100/100 [==============================] - 28s 281ms/step - loss: 0.1372 - acc: 0.9485 - val_loss: 0.1469 - val_acc: 0.9510\n",
            "Epoch 76/100\n",
            "100/100 [==============================] - 28s 282ms/step - loss: 0.1203 - acc: 0.9505 - val_loss: 0.1947 - val_acc: 0.9390\n",
            "Epoch 77/100\n",
            "100/100 [==============================] - 28s 283ms/step - loss: 0.1334 - acc: 0.9435 - val_loss: 0.1603 - val_acc: 0.9470\n",
            "Epoch 78/100\n",
            "100/100 [==============================] - 28s 280ms/step - loss: 0.1283 - acc: 0.9535 - val_loss: 0.1453 - val_acc: 0.9560\n",
            "Epoch 79/100\n",
            "100/100 [==============================] - 29s 287ms/step - loss: 0.1258 - acc: 0.9505 - val_loss: 0.1672 - val_acc: 0.9480\n",
            "Epoch 80/100\n",
            "100/100 [==============================] - 28s 281ms/step - loss: 0.1331 - acc: 0.9510 - val_loss: 0.1479 - val_acc: 0.9510\n",
            "Epoch 81/100\n",
            "100/100 [==============================] - 28s 279ms/step - loss: 0.1236 - acc: 0.9525 - val_loss: 0.1246 - val_acc: 0.9560\n",
            "Epoch 82/100\n",
            "100/100 [==============================] - 28s 280ms/step - loss: 0.1226 - acc: 0.9510 - val_loss: 0.1611 - val_acc: 0.9470\n",
            "Epoch 83/100\n",
            "100/100 [==============================] - 28s 280ms/step - loss: 0.1445 - acc: 0.9450 - val_loss: 0.1323 - val_acc: 0.9520\n",
            "Epoch 84/100\n",
            "100/100 [==============================] - 28s 282ms/step - loss: 0.1126 - acc: 0.9595 - val_loss: 0.1479 - val_acc: 0.9450\n",
            "Epoch 85/100\n",
            "100/100 [==============================] - 28s 278ms/step - loss: 0.1255 - acc: 0.9525 - val_loss: 0.1636 - val_acc: 0.9490\n",
            "Epoch 86/100\n",
            "100/100 [==============================] - 28s 276ms/step - loss: 0.1188 - acc: 0.9485 - val_loss: 0.1195 - val_acc: 0.9640\n",
            "Epoch 87/100\n",
            "100/100 [==============================] - 28s 276ms/step - loss: 0.1360 - acc: 0.9445 - val_loss: 0.1853 - val_acc: 0.9410\n",
            "Epoch 88/100\n",
            "100/100 [==============================] - 28s 277ms/step - loss: 0.0951 - acc: 0.9600 - val_loss: 0.1504 - val_acc: 0.9600\n",
            "Epoch 89/100\n",
            "100/100 [==============================] - 28s 277ms/step - loss: 0.1439 - acc: 0.9455 - val_loss: 0.1612 - val_acc: 0.9520\n",
            "Epoch 90/100\n",
            "100/100 [==============================] - 28s 283ms/step - loss: 0.1171 - acc: 0.9535 - val_loss: 0.1603 - val_acc: 0.9530\n",
            "Epoch 91/100\n",
            "100/100 [==============================] - 28s 281ms/step - loss: 0.1318 - acc: 0.9540 - val_loss: 0.1894 - val_acc: 0.9440\n",
            "Epoch 92/100\n",
            "100/100 [==============================] - 28s 277ms/step - loss: 0.1036 - acc: 0.9615 - val_loss: 0.1867 - val_acc: 0.9500\n",
            "Epoch 93/100\n",
            "100/100 [==============================] - 28s 277ms/step - loss: 0.1164 - acc: 0.9535 - val_loss: 0.1433 - val_acc: 0.9500\n",
            "Epoch 94/100\n",
            "100/100 [==============================] - 28s 277ms/step - loss: 0.1197 - acc: 0.9520 - val_loss: 0.1454 - val_acc: 0.9600\n",
            "Epoch 95/100\n",
            "100/100 [==============================] - 28s 277ms/step - loss: 0.1314 - acc: 0.9490 - val_loss: 0.1846 - val_acc: 0.9370\n",
            "Epoch 96/100\n",
            "100/100 [==============================] - 28s 277ms/step - loss: 0.1033 - acc: 0.9550 - val_loss: 0.1871 - val_acc: 0.9490\n",
            "Epoch 97/100\n",
            "100/100 [==============================] - 27s 274ms/step - loss: 0.1339 - acc: 0.9470 - val_loss: 0.1708 - val_acc: 0.9480\n",
            "Epoch 98/100\n",
            "100/100 [==============================] - 27s 274ms/step - loss: 0.1107 - acc: 0.9540 - val_loss: 0.1219 - val_acc: 0.9580\n",
            "Epoch 99/100\n",
            "100/100 [==============================] - 28s 275ms/step - loss: 0.1244 - acc: 0.9535 - val_loss: 0.1179 - val_acc: 0.9630\n",
            "Epoch 100/100\n",
            "100/100 [==============================] - 28s 278ms/step - loss: 0.1029 - acc: 0.9605 - val_loss: 0.1334 - val_acc: 0.9560\n"
          ],
          "name": "stdout"
        }
      ]
    },
    {
      "cell_type": "code",
      "metadata": {
        "colab": {
          "base_uri": "https://localhost:8080/",
          "height": 545
        },
        "id": "c_h-z_l9Ioj8",
        "outputId": "8e957777-c14b-4ccf-c8e5-c5698a079962"
      },
      "source": [
        "import matplotlib.pyplot as plt\n",
        "\n",
        "acc = history.history['acc']\n",
        "val_acc = history.history['val_acc']\n",
        "loss = history.history['loss']\n",
        "val_loss = history.history['val_loss']\n",
        "\n",
        "epochs = range(1, len(acc) + 1)\n",
        "plt.plot(epochs, acc, 'bo', label='Training accuracy')\n",
        "plt.plot(epochs, val_acc, 'b', label='Validation accuracy')\n",
        "plt.title('Training and Validation accuracy')\n",
        "plt.legend()\n",
        "\n",
        "plt.figure()\n",
        "\n",
        "plt.plot(epochs, loss, 'bo', label='Training loss')\n",
        "plt.plot(epochs, val_loss, 'b', label='Validation loss')\n",
        "plt.title('Training and Validation loss')\n",
        "plt.legend()\n",
        "\n",
        "plt.show()"
      ],
      "execution_count": 41,
      "outputs": [
        {
          "output_type": "display_data",
          "data": {
            "image/png": "[encoded data removed]",
            "text/plain": [
              "<Figure size 432x288 with 1 Axes>"
            ]
          },
          "metadata": {
            "needs_background": "light"
          }
        },
        {
          "output_type": "display_data",
          "data": {
            "image/png": "[encoded data removed]",
            "text/plain": [
              "<Figure size 432x288 with 1 Axes>"
            ]
          },
          "metadata": {
            "needs_background": "light"
          }
        }
      ]
    },
    {
      "cell_type": "code",
      "metadata": {
        "id": "R3LcS_PuN8MJ"
      },
      "source": [
        "def smooth_curve(points, factor=0.8):\n",
        "    smoothed_points = []\n",
        "    for point in points:\n",
        "        if smoothed_points:\n",
        "            previous = smoothed_points[-1]\n",
        "            smoothed_points.append(previous * factor + point * (1 - factor))\n",
        "        else:\n",
        "            smoothed_points.append(point)\n",
        "    return smoothed_points"
      ],
      "execution_count": 42,
      "outputs": []
    },
    {
      "cell_type": "code",
      "metadata": {
        "colab": {
          "base_uri": "https://localhost:8080/",
          "height": 545
        },
        "id": "cmugsAwWN8Ol",
        "outputId": "1b9caedd-0ccf-45f2-e7b9-eb6ee7557e34"
      },
      "source": [
        "plt.plot(epochs, smooth_curve(acc),\n",
        "         'bo', label='Smoothed training accuracy')\n",
        "plt.plot(epochs, smooth_curve(val_acc),\n",
        "         'b', label='Smoothed validation accuracy')\n",
        "plt.title('Training and validation accuracy')\n",
        "plt.legend()\n",
        "\n",
        "plt.figure()\n",
        "\n",
        "plt.plot(epochs, smooth_curve(loss),\n",
        "         'bo', label='Smoothed training loss')\n",
        "plt.plot(epochs, smooth_curve(val_loss),\n",
        "         'b', label='Smoothed validation loss')\n",
        "plt.title('Training and validation loss')\n",
        "plt.legend()\n",
        "\n",
        "plt.show()"
      ],
      "execution_count": 43,
      "outputs": [
        {
          "output_type": "display_data",
          "data": {
            "image/png": "[encoded data removed]",
            "text/plain": [
              "<Figure size 432x288 with 1 Axes>"
            ]
          },
          "metadata": {
            "needs_background": "light"
          }
        },
        {
          "output_type": "display_data",
          "data": {
            "image/png": "[encoded data removed]",
            "text/plain": [
              "<Figure size 432x288 with 1 Axes>"
            ]
          },
          "metadata": {
            "needs_background": "light"
          }
        }
      ]
    },
    {
      "cell_type": "code",
      "metadata": {
        "colab": {
          "base_uri": "https://localhost:8080/"
        },
        "id": "aaHEA67VN8Q4",
        "outputId": "6e2e82fd-d567-459c-b3a9-71eddb2d6a3e"
      },
      "source": [
        "test_generator = test_datagen.flow_from_directory(\n",
        "    test_dir,\n",
        "    target_size=(150, 150),\n",
        "    batch_size=20,\n",
        "    class_mode='binary')\n",
        "\n",
        "test_loss, test_acc = model.evaluate(test_generator, steps=50)\n",
        "print('test acc:', test_acc)"
      ],
      "execution_count": 44,
      "outputs": [
        {
          "output_type": "stream",
          "text": [
            "Found 3500 images belonging to 2 classes.\n",
            "50/50 [==============================] - 7s 129ms/step - loss: 0.1538 - acc: 0.9540\n",
            "test acc: 0.9539999961853027\n"
          ],
          "name": "stdout"
        }
      ]
    },
    {
      "cell_type": "code",
      "metadata": {
        "id": "MZ-JakC0N8TG"
      },
      "source": [
        ""
      ],
      "execution_count": null,
      "outputs": []
    },
    {
      "cell_type": "code",
      "metadata": {
        "id": "r4UPVJdNN8Us"
      },
      "source": [
        ""
      ],
      "execution_count": null,
      "outputs": []
    }
  ]
}